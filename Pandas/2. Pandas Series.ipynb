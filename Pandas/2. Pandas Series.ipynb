{
 "cells": [
  {
   "cell_type": "markdown",
   "id": "65eaacbe-8c4c-419f-8013-5ecc919b3478",
   "metadata": {},
   "source": [
    "# **Pandas**\n",
    "## **Data Structures**\n",
    "Pandas provides two fundamental data structures: **Series** and **DataFrame**.\n",
    "\n",
    "**Series:**&emsp;A 1-D labeled array holding data of any type (such as Integer, String, User Defined Object..) <br>\n",
    "&emsp;&emsp;**Labeling:**&emsp;Each element in a Series has a label or an index - Easy access and manipulation. <br>\n",
    "&emsp;&emsp;**Homogeneous Data:**&emsp;Series stores data of same type to ensure consistency. <br>\n",
    "&emsp;&emsp;**Vectorized Operations:**&emsp;Efficient for element-wise calculation - Operations on entire Series without need of explicit loops. <br>\n",
    "&emsp;&emsp;&emsp;&emsp;&emsp;&emsp;&emsp;&emsp;&emsp;&emsp;&emsp;&emsp;&emsp;&emsp;In simple words, arithmetic operations performed on a Pandas Series reflects in each of its element. Let's illustrate this with an example!"
   ]
  },
  {
   "cell_type": "code",
   "execution_count": 2,
   "id": "b2fe0097-8d9c-45bc-9881-e7be15e5e338",
   "metadata": {},
   "outputs": [],
   "source": [
    "# Importing pandas\n",
    "import pandas as pd            # Pandas is imported as 'pd' by convention. Not a must thing to do."
   ]
  },
  {
   "cell_type": "markdown",
   "id": "b8fe5f2f-a264-452e-82d8-8792cc4aecfb",
   "metadata": {},
   "source": [
    "## Pandas Series"
   ]
  },
  {
   "cell_type": "markdown",
   "id": "160673e5-443d-4de6-bed5-2bba630a0c37",
   "metadata": {},
   "source": [
    "<br>**pandas.Series(data=None, index=None, dtype=None, name=None, copy=None, fastpath=False)**<br><br>\n",
    "Let's explore it!"
   ]
  },
  {
   "cell_type": "code",
   "execution_count": 3,
   "id": "d670eba7-4605-49f4-a801-872b13dff0e9",
   "metadata": {},
   "outputs": [
    {
     "name": "stdout",
     "output_type": "stream",
     "text": [
      "Series([], dtype: object)\n",
      "Series([], dtype: object)\n"
     ]
    }
   ],
   "source": [
    "# Empty Series\n",
    "print(pd.Series())   # data is also optional. Empty series is obtained if data not mentioned\n",
    "print(pd.Series([])) # keeping data as empty list yields same result"
   ]
  },
  {
   "cell_type": "code",
   "execution_count": 4,
   "id": "191e09b6-2ea8-4e12-99bf-851c49501713",
   "metadata": {},
   "outputs": [
    {
     "data": {
      "text/plain": [
       "pandas.core.series.Series"
      ]
     },
     "execution_count": 4,
     "metadata": {},
     "output_type": "execute_result"
    }
   ],
   "source": [
    "# Datatype of Pandas Series\n",
    "type(pd.Series())"
   ]
  },
  {
   "cell_type": "code",
   "execution_count": 5,
   "id": "b2393849-3ecc-4602-9d82-174c024bfaad",
   "metadata": {},
   "outputs": [
    {
     "data": {
      "text/plain": [
       "0    1\n",
       "1    2\n",
       "2    3\n",
       "3    4\n",
       "4    5\n",
       "Name: MySeries, dtype: int64"
      ]
     },
     "execution_count": 5,
     "metadata": {},
     "output_type": "execute_result"
    }
   ],
   "source": [
    "# Series with list data\n",
    "data = [1,2,3,4,5]\n",
    "series = pd.Series(data, name=\"MySeries\")  # name attribute is just for documentation and identification purpose - doesn't affect functionality of Series.\n",
    "series"
   ]
  },
  {
   "cell_type": "code",
   "execution_count": 6,
   "id": "c1c70213-ec14-47a0-8e48-cc5222454a5f",
   "metadata": {},
   "outputs": [
    {
     "name": "stdout",
     "output_type": "stream",
     "text": [
      "a    1\n",
      "b    2\n",
      "c    3\n",
      "d    4\n",
      "e    5\n",
      "dtype: int64\n",
      "2\n"
     ]
    }
   ],
   "source": [
    "# Series with dictionary\n",
    "data = {'a':1, 'b':2, 'c':3, 'd':4, 'e':5}\n",
    "series = pd.Series(data)\n",
    "print(series)\n",
    "print(series['b'])"
   ]
  },
  {
   "cell_type": "code",
   "execution_count": 7,
   "id": "cf9ab4a6-3bfc-4655-ab83-bc4b0b654302",
   "metadata": {},
   "outputs": [
    {
     "data": {
      "text/plain": [
       "3"
      ]
     },
     "execution_count": 7,
     "metadata": {},
     "output_type": "execute_result"
    }
   ],
   "source": [
    "'''\n",
    "    Will integer indexing still work even when the indexing has been customized?\n",
    "    Answer is YES!\n",
    "    print(series[2])   # Works now with a FutureWarning. Returns 3. In future this may no longer be available.\n",
    "    Use the below one instead\n",
    "'''\n",
    "# print(series[2])\n",
    "series.iloc[2]"
   ]
  },
  {
   "cell_type": "markdown",
   "id": "68d4ea34-6e05-4e03-bba6-c09ec8d9cf1e",
   "metadata": {},
   "source": [
    "As you can see, when dictionary is given as input, keys are automatically taken as index, and values are automatically taken as entries. This wasn't there with the list. To perform the same task with the list, we need two lists - one having keys and other having values. Let's try that as well!"
   ]
  },
  {
   "cell_type": "code",
   "execution_count": 8,
   "id": "08502bb1-4340-4883-8853-8afd4e46f40f",
   "metadata": {},
   "outputs": [
    {
     "data": {
      "text/plain": [
       "A        Alice\n",
       "B          Bob\n",
       "C    Catherine\n",
       "D      Donovan\n",
       "dtype: object"
      ]
     },
     "execution_count": 8,
     "metadata": {},
     "output_type": "execute_result"
    }
   ],
   "source": [
    "# Customized index\n",
    "data = ['Alice', 'Bob', 'Catherine', 'Donovan']\n",
    "index = ['A','B','C','D']\n",
    "series = pd.Series(data, index=index)  # index argument lets us list out the indices for the given data\n",
    "series"
   ]
  },
  {
   "cell_type": "code",
   "execution_count": 9,
   "id": "e42bbc99-d87d-4350-9f91-f660c50e1477",
   "metadata": {},
   "outputs": [
    {
     "data": {
      "text/plain": [
       "0    a\n",
       "1    b\n",
       "2    c\n",
       "dtype: object"
      ]
     },
     "execution_count": 9,
     "metadata": {},
     "output_type": "execute_result"
    }
   ],
   "source": [
    "# Series with tuple data\n",
    "pd.Series(data = ('a','b','c'))"
   ]
  },
  {
   "cell_type": "code",
   "execution_count": 10,
   "id": "bcb25a86-3ab0-43a2-92c1-8335a1388d10",
   "metadata": {},
   "outputs": [
    {
     "data": {
      "text/plain": [
       "0    45\n",
       "dtype: int64"
      ]
     },
     "execution_count": 10,
     "metadata": {},
     "output_type": "execute_result"
    }
   ],
   "source": [
    "# Series with scalar value as data\n",
    "pd.Series(data=45)"
   ]
  },
  {
   "cell_type": "code",
   "execution_count": 11,
   "id": "c3bd17be-a7ec-4722-a2c2-876085a7af78",
   "metadata": {},
   "outputs": [
    {
     "data": {
      "text/plain": [
       "0    1.0\n",
       "1    2.0\n",
       "2    3.0\n",
       "3    4.0\n",
       "dtype: float64"
      ]
     },
     "execution_count": 11,
     "metadata": {},
     "output_type": "execute_result"
    }
   ],
   "source": [
    "# Series with datatype changing\n",
    "data_list = [1,2,3.0,4]\n",
    "pd.Series(data = data_list)  # pd.Series(data_list) is also correct. Because, 'data' is the first argument. Python matches with Positional Argument Concept."
   ]
  },
  {
   "cell_type": "code",
   "execution_count": 12,
   "id": "d36b71f1-282c-4f5a-b3c4-fc3dfea8081d",
   "metadata": {},
   "outputs": [
    {
     "data": {
      "text/plain": [
       "0    1\n",
       "1    2\n",
       "2    3\n",
       "3    4\n",
       "dtype: int32"
      ]
     },
     "execution_count": 12,
     "metadata": {},
     "output_type": "execute_result"
    }
   ],
   "source": [
    "# Here as you can see, since one entry was wrongly entered as float, all became float.\n",
    "# float64 is more memory consuming than int64 itself.\n",
    "# use dtype argument\n",
    "pd.Series(data_list, dtype=int) # here explicit mentioning of 'data' argument name was avoided. Still works."
   ]
  },
  {
   "cell_type": "markdown",
   "id": "425676c9-4493-4c29-9f93-5125da8c1ef1",
   "metadata": {},
   "source": [
    "<br><br>**Operations on Series**"
   ]
  },
  {
   "cell_type": "code",
   "execution_count": 13,
   "id": "2e8232b6-8feb-432c-b545-d7d366ce6ffd",
   "metadata": {},
   "outputs": [
    {
     "data": {
      "text/plain": [
       "0    America\n",
       "1     Berlin\n",
       "2     Canada\n",
       "3      Delhi\n",
       "dtype: object"
      ]
     },
     "execution_count": 13,
     "metadata": {},
     "output_type": "execute_result"
    }
   ],
   "source": [
    "# Copying a series\n",
    "orig_series = pd.Series(['America', 'Berlin','Canada','Delhi'])\n",
    "orig_series"
   ]
  },
  {
   "cell_type": "code",
   "execution_count": 14,
   "id": "05a1f008-97e0-416e-988a-0aaa6cbe8c8e",
   "metadata": {},
   "outputs": [
    {
     "name": "stdout",
     "output_type": "stream",
     "text": [
      "Before Alteration:\n",
      "0    America\n",
      "1     Berlin\n",
      "2     Canada\n",
      "3      Delhi\n",
      "dtype: object\n",
      "\n",
      "After Alteration:\n",
      "0    America\n",
      "1     Bombay\n",
      "2     Canada\n",
      "3      Delhi\n",
      "dtype: object\n",
      "\n",
      "Original DataFrame:\n",
      "0    America\n",
      "1     Bombay\n",
      "2     Canada\n",
      "3      Delhi\n",
      "dtype: object\n"
     ]
    }
   ],
   "source": [
    "copy1 = pd.Series(orig_series, copy=False)\n",
    "print(\"Before Alteration:\")\n",
    "print(copy1)                              # Printing before alteration\n",
    "copy1[1] = 'Bombay'                       # Alteration\n",
    "print(\"\\nAfter Alteration:\")\n",
    "print(copy1)                              # Printing after alteration\n",
    "print(\"\\nOriginal DataFrame:\")\n",
    "print(orig_series)"
   ]
  },
  {
   "cell_type": "markdown",
   "id": "6e263233-c029-4a86-bd05-21755ec9cb70",
   "metadata": {},
   "source": [
    "<br><br> As you can notice, when copy=False, the alterations on the copied DataFrame also reflects on the original one. <br>\n",
    "To avoid this, we may keep  copy=True. <br><br>\n",
    "copy=True  --> Deep Copy<br>\n",
    "copy=False --> Shallow Copy <br>"
   ]
  },
  {
   "cell_type": "code",
   "execution_count": 15,
   "id": "3bace809-5b67-493c-ba7f-14ff52d79910",
   "metadata": {},
   "outputs": [
    {
     "name": "stdout",
     "output_type": "stream",
     "text": [
      "Before Alteration:\n",
      "0    America\n",
      "1     Bombay\n",
      "2     Canada\n",
      "3      Delhi\n",
      "dtype: object\n",
      "\n",
      "After Alteration:\n",
      "0    America\n",
      "1     Bombay\n",
      "2     Canada\n",
      "3      Delhi\n",
      "dtype: object\n",
      "\n",
      "Original DataFrame:\n",
      "0    America\n",
      "1     Bombay\n",
      "2     Canada\n",
      "3      Delhi\n",
      "dtype: object\n"
     ]
    }
   ],
   "source": [
    "orig_serues = pd.Series(['America', 'Berlin','Canada','Delhi'])\n",
    "copy1 = pd.Series(orig_series, copy=True)       # copy=True ensures that the alterations on the copy DataFrame doesn't reflect in original DataFrame.\n",
    "print(\"Before Alteration:\")\n",
    "print(copy1)                                # Printing before alteration\n",
    "copy1[1] = 'Bombay'                         # Alteration\n",
    "print(\"\\nAfter Alteration:\")\n",
    "print(copy1)                                # Printing after alteration\n",
    "print(\"\\nOriginal DataFrame:\")\n",
    "print(orig_series)"
   ]
  },
  {
   "cell_type": "code",
   "execution_count": 16,
   "id": "5b50a959-a036-40c8-aa04-87cd37a56b4c",
   "metadata": {},
   "outputs": [
    {
     "data": {
      "text/plain": [
       "0    America\n",
       "1     Berlin\n",
       "2     Canada\n",
       "3      Delhi\n",
       "dtype: object"
      ]
     },
     "execution_count": 16,
     "metadata": {},
     "output_type": "execute_result"
    }
   ],
   "source": [
    "# Alternate Approach\n",
    "orig_series = pd.Series(['America', 'Berlin','Canada','Delhi'])\n",
    "copy1 = orig_series.copy()  # Deep copy\n",
    "copy1[2] = \"Banana\"\n",
    "orig_series"
   ]
  },
  {
   "cell_type": "code",
   "execution_count": 17,
   "id": "06e27439-435a-41ea-b614-642262e01787",
   "metadata": {},
   "outputs": [
    {
     "data": {
      "text/plain": [
       "0    America\n",
       "1     Berlin\n",
       "2     Banana\n",
       "3      Delhi\n",
       "dtype: object"
      ]
     },
     "execution_count": 17,
     "metadata": {},
     "output_type": "execute_result"
    }
   ],
   "source": [
    "orig_series = pd.Series(['America', 'Berlin','Canada','Delhi'])\n",
    "copy1 = orig_series.copy(deep=False)  # Shallow copy\n",
    "copy1[2] = \"Banana\"\n",
    "orig_series"
   ]
  },
  {
   "cell_type": "markdown",
   "id": "4683234e-1632-4a46-988b-ecf9c65eac23",
   "metadata": {},
   "source": [
    "<br><br> **fastpath Attribute:** This attribute is not a commonly used parameter. It is an internal optimization feature intended for advanced users. It can potentially improve performance in certain scenarios. This attribute is considered experimental and might be removed in future versions"
   ]
  },
  {
   "cell_type": "markdown",
   "id": "f970a5de-fae3-4fa0-b43d-b20f82cbd95e",
   "metadata": {},
   "source": [
    "<br><br>**Other Functionalities:**"
   ]
  },
  {
   "cell_type": "code",
   "execution_count": 18,
   "id": "78c0cbc0-8a1d-4711-96dc-3b80048a9d36",
   "metadata": {},
   "outputs": [
    {
     "data": {
      "text/plain": [
       "A        Alice\n",
       "B          Bob\n",
       "C    Catherine\n",
       "D      Donovan\n",
       "dtype: object"
      ]
     },
     "execution_count": 18,
     "metadata": {},
     "output_type": "execute_result"
    }
   ],
   "source": [
    "series"
   ]
  },
  {
   "cell_type": "code",
   "execution_count": 21,
   "id": "a871dda7-2102-47dd-89cd-9a80214ce88a",
   "metadata": {},
   "outputs": [
    {
     "name": "stdout",
     "output_type": "stream",
     "text": [
      "10\n",
      "2.5\n",
      "2.5\n",
      "1\n",
      "4\n",
      "1.2909944487358056\n",
      "1.6666666666666667\n"
     ]
    }
   ],
   "source": [
    "# Mathematical and Statistical Operations\n",
    "series = pd.Series([1,2,3,4])\n",
    "print(series.sum())\n",
    "print(series.mean())\n",
    "print(series.median())\n",
    "print(series.min())\n",
    "print(series.max())\n",
    "print(series.std())\n",
    "print(series.var())"
   ]
  },
  {
   "cell_type": "code",
   "execution_count": 22,
   "id": "46ac10ef-95e4-4f29-9225-394aa16ab605",
   "metadata": {},
   "outputs": [
    {
     "name": "stdout",
     "output_type": "stream",
     "text": [
      "0    5\n",
      "1    7\n",
      "2    9\n",
      "dtype: int64\n",
      "0   -3\n",
      "1   -3\n",
      "2   -3\n",
      "dtype: int64\n",
      "0     4\n",
      "1    10\n",
      "2    18\n",
      "dtype: int64\n",
      "0    0.25\n",
      "1    0.40\n",
      "2    0.50\n",
      "dtype: float64\n",
      "0     5\n",
      "1    10\n",
      "2    15\n",
      "dtype: int64\n"
     ]
    }
   ],
   "source": [
    "# Element wise operations\n",
    "series1 = pd.Series([1,2,3])\n",
    "series2 = pd.Series([4,5,6])\n",
    "print(series1+series2)                # Addition of 2 series\n",
    "print(series1-series2)                # Subtraction of 2 series\n",
    "print(series1*series2)                # Multiplication of 2 series\n",
    "print(series1/series2)                # Divison of 2 series\n",
    "print(series1*5)                      # Scalar Multiplication on a series"
   ]
  },
  {
   "cell_type": "code",
   "execution_count": 23,
   "id": "7836640b-20e0-48f4-aba7-cb13dade26e9",
   "metadata": {},
   "outputs": [
    {
     "data": {
      "text/plain": [
       "0    False\n",
       "1    False\n",
       "2     True\n",
       "3     True\n",
       "4     True\n",
       "dtype: bool"
      ]
     },
     "execution_count": 23,
     "metadata": {},
     "output_type": "execute_result"
    }
   ],
   "source": [
    "# Boolean indexing conditions\n",
    "data = [1,2,3,4,5]\n",
    "series = pd.Series(data)\n",
    "series>2"
   ]
  },
  {
   "cell_type": "code",
   "execution_count": 24,
   "id": "70ea99f0-add4-4bfd-b153-1c19d50849d2",
   "metadata": {},
   "outputs": [
    {
     "data": {
      "text/plain": [
       "2    3\n",
       "3    4\n",
       "4    5\n",
       "dtype: int64"
      ]
     },
     "execution_count": 24,
     "metadata": {},
     "output_type": "execute_result"
    }
   ],
   "source": [
    "# Retrieval of elements satisfying condition\n",
    "series[series>2]"
   ]
  },
  {
   "cell_type": "code",
   "execution_count": 25,
   "id": "e8c45cf5-c2f3-498f-b45f-35a1491e9f95",
   "metadata": {},
   "outputs": [
    {
     "data": {
      "text/plain": [
       "8    21\n",
       "1    23\n",
       "4    35\n",
       "3    43\n",
       "7    43\n",
       "0    57\n",
       "5    67\n",
       "2    73\n",
       "6    86\n",
       "dtype: int64"
      ]
     },
     "execution_count": 25,
     "metadata": {},
     "output_type": "execute_result"
    }
   ],
   "source": [
    "# Sorting of values\n",
    "series1 = pd.Series([57,23,73,43,35,67,86,43,21])\n",
    "series1.sort_values()"
   ]
  },
  {
   "cell_type": "code",
   "execution_count": 26,
   "id": "db8487a5-0fc3-4185-b63f-0c29708d18e3",
   "metadata": {},
   "outputs": [
    {
     "data": {
      "text/plain": [
       "0    57\n",
       "1    23\n",
       "2    73\n",
       "3    43\n",
       "4    35\n",
       "5    67\n",
       "6    86\n",
       "7    43\n",
       "8    21\n",
       "dtype: int64"
      ]
     },
     "execution_count": 26,
     "metadata": {},
     "output_type": "execute_result"
    }
   ],
   "source": [
    "series1             # The sort wasn't reflected in the series itself."
   ]
  },
  {
   "cell_type": "code",
   "execution_count": 27,
   "id": "de0ab6bc-3f71-4ce7-8e29-64bef49fd778",
   "metadata": {},
   "outputs": [
    {
     "data": {
      "text/plain": [
       "8    21\n",
       "1    23\n",
       "4    35\n",
       "3    43\n",
       "7    43\n",
       "0    57\n",
       "5    67\n",
       "2    73\n",
       "6    86\n",
       "dtype: int64"
      ]
     },
     "execution_count": 27,
     "metadata": {},
     "output_type": "execute_result"
    }
   ],
   "source": [
    "# To make the changes in the series itself\n",
    "series1.sort_values(inplace=True)        # series1 = series1.sort_values()  this will also work\n",
    "series1"
   ]
  },
  {
   "cell_type": "code",
   "execution_count": 28,
   "id": "b8049f3f-baa1-4b9b-b19e-c6dee8e49139",
   "metadata": {},
   "outputs": [
    {
     "data": {
      "text/plain": [
       "6    86\n",
       "2    73\n",
       "5    67\n",
       "0    57\n",
       "3    43\n",
       "7    43\n",
       "4    35\n",
       "1    23\n",
       "8    21\n",
       "dtype: int64"
      ]
     },
     "execution_count": 28,
     "metadata": {},
     "output_type": "execute_result"
    }
   ],
   "source": [
    "# Descending sort\n",
    "series1 = pd.Series([57,23,73,43,35,67,86,43,21])\n",
    "series1 = series1.sort_values(ascending=False)       # Descending Sort\n",
    "series1"
   ]
  },
  {
   "cell_type": "code",
   "execution_count": 29,
   "id": "26e2f4f9-2259-4f4e-9924-34616ebd6914",
   "metadata": {},
   "outputs": [
    {
     "data": {
      "text/plain": [
       "0    1.0\n",
       "1    2.0\n",
       "2    NaN\n",
       "3    4.0\n",
       "4    5.0\n",
       "dtype: float64"
      ]
     },
     "execution_count": 29,
     "metadata": {},
     "output_type": "execute_result"
    }
   ],
   "source": [
    "# Handing Missing data\n",
    "series2 = pd.Series([1,2,None,4,5])\n",
    "series2"
   ]
  },
  {
   "cell_type": "code",
   "execution_count": 30,
   "id": "09a2693b-8e93-447b-b96d-3fc905fbf285",
   "metadata": {},
   "outputs": [
    {
     "data": {
      "text/plain": [
       "0    False\n",
       "1    False\n",
       "2     True\n",
       "3    False\n",
       "4    False\n",
       "dtype: bool"
      ]
     },
     "execution_count": 30,
     "metadata": {},
     "output_type": "execute_result"
    }
   ],
   "source": [
    "series2.isnull()   # Finds the Null entries - NOTE: '-', 'NA', '0' these may also represent NULL entries but not recognized by this function."
   ]
  },
  {
   "cell_type": "code",
   "execution_count": 31,
   "id": "d12a67c2-303b-4b4c-9322-bd6fbaf5ab5f",
   "metadata": {},
   "outputs": [
    {
     "data": {
      "text/plain": [
       "0    1.0\n",
       "1    2.0\n",
       "2    NaN\n",
       "3    4.0\n",
       "4    5.0\n",
       "dtype: float64"
      ]
     },
     "execution_count": 31,
     "metadata": {},
     "output_type": "execute_result"
    }
   ],
   "source": [
    "series2.fillna(0) # Filling all null values with 0\n",
    "series2           # Changes not made inplace."
   ]
  },
  {
   "cell_type": "code",
   "execution_count": 32,
   "id": "1dcde03c-5434-457a-80cc-bab9895706c5",
   "metadata": {},
   "outputs": [
    {
     "data": {
      "text/plain": [
       "0    1.0\n",
       "1    2.0\n",
       "2    0.0\n",
       "3    4.0\n",
       "4    5.0\n",
       "dtype: float64"
      ]
     },
     "execution_count": 32,
     "metadata": {},
     "output_type": "execute_result"
    }
   ],
   "source": [
    "series2.fillna(0, inplace=True) \n",
    "series2           # Now it's done"
   ]
  },
  {
   "cell_type": "code",
   "execution_count": 33,
   "id": "e407395c-db21-4c4b-9118-913bfaeaba4d",
   "metadata": {},
   "outputs": [
    {
     "name": "stdout",
     "output_type": "stream",
     "text": [
      "0    Apple\n",
      "1     Ball\n",
      "2      Cat\n",
      "dtype: object\n",
      "\n",
      "0    APPLE\n",
      "1     BALL\n",
      "2      CAT\n",
      "dtype: object\n",
      "\n",
      "0    apple\n",
      "1     ball\n",
      "2      cat\n",
      "dtype: object\n"
     ]
    }
   ],
   "source": [
    "# Vectorized String operations\n",
    "series2 = pd.Series([\"apple\", \"ball\", \"cat\"])\n",
    "\n",
    "print(series2.str.capitalize())               # Capitalize -- Only first letter caps\n",
    "print()\n",
    "print(series2.str.upper())                    # upper -- all letter caps\n",
    "print()\n",
    "print(series2.str.lower())                    # lower -- all letters lower   \n"
   ]
  },
  {
   "cell_type": "code",
   "execution_count": 37,
   "id": "27eedeb5-3eb0-467b-81ee-563170f72fa9",
   "metadata": {},
   "outputs": [
    {
     "name": "stdout",
     "output_type": "stream",
     "text": [
      "0    1\n",
      "1    2\n",
      "2    3\n",
      "3    4\n",
      "4    5\n",
      "dtype: int64\n"
     ]
    },
    {
     "data": {
      "text/plain": [
       "0     1\n",
       "1     4\n",
       "2     9\n",
       "3    16\n",
       "4    25\n",
       "dtype: int64"
      ]
     },
     "execution_count": 37,
     "metadata": {},
     "output_type": "execute_result"
    }
   ],
   "source": [
    "# Element-wise functions\n",
    "print(series)\n",
    "\n",
    "# Let's square each term\n",
    "series.apply(lambda x:x**2)   # series**2 will also perform this task"
   ]
  },
  {
   "cell_type": "code",
   "execution_count": 47,
   "id": "0747f5a6-7dfa-42f5-8692-a1600c956476",
   "metadata": {},
   "outputs": [
    {
     "name": "stdout",
     "output_type": "stream",
     "text": [
      "      Name  Salary  Experience (years)\n",
      "0    Alice   50000                   3\n",
      "1      Bob   60000                   5\n",
      "2  Charlie   75000                   8\n",
      "\n",
      "      Name   Salary  Experience (years)\n",
      "0    Alice  55000.0                   3\n",
      "1      Bob  66000.0                   5\n",
      "2  Charlie  90000.0                   8\n"
     ]
    }
   ],
   "source": [
    "# A typical example where apply() comes handy\n",
    "# Calculating salary increment based on experience.\n",
    "\n",
    "# Sample data\n",
    "data = {\n",
    "    'Name': ['Alice', 'Bob', 'Charlie'],\n",
    "    'Salary': [50000, 60000, 75000],\n",
    "    'Experience (years)': [3, 5, 8]\n",
    "}\n",
    "df = pd.DataFrame(data)\n",
    "print(df)\n",
    "print()\n",
    "\n",
    "# Implementation\n",
    "def calc_increment(row):\n",
    "    '''\n",
    "        Sample logic:\n",
    "            if experience > 5:  20% salary increment\n",
    "            if between 0 to 5:  10% salary increment\n",
    "    '''\n",
    "    salary = row[\"Salary\"]\n",
    "    experience = row[\"Experience (years)\"]\n",
    "\n",
    "    if experience > 5:\n",
    "        salary = salary + salary*20/100\n",
    "    else:\n",
    "        salary = salary + salary*10/100\n",
    "\n",
    "    row[\"Salary\"] = salary\n",
    "    return row\n",
    "\n",
    "# Expected output\n",
    "'''\n",
    "    50000+10% = 55000, \n",
    "    60000+10% = 66000,\n",
    "    75000+20% = 90000\n",
    "'''\n",
    "\n",
    "# Applying function\n",
    "df = df.apply(calc_increment, axis=1)\n",
    "print(df)"
   ]
  },
  {
   "cell_type": "code",
   "execution_count": 52,
   "id": "cba2dd7b-ac98-47a0-9474-e08174933f15",
   "metadata": {},
   "outputs": [
    {
     "data": {
      "text/html": [
       "<div>\n",
       "<style scoped>\n",
       "    .dataframe tbody tr th:only-of-type {\n",
       "        vertical-align: middle;\n",
       "    }\n",
       "\n",
       "    .dataframe tbody tr th {\n",
       "        vertical-align: top;\n",
       "    }\n",
       "\n",
       "    .dataframe thead th {\n",
       "        text-align: right;\n",
       "    }\n",
       "</style>\n",
       "<table border=\"1\" class=\"dataframe\">\n",
       "  <thead>\n",
       "    <tr style=\"text-align: right;\">\n",
       "      <th></th>\n",
       "      <th>Name</th>\n",
       "      <th>Salary</th>\n",
       "      <th>Experience (years)</th>\n",
       "    </tr>\n",
       "  </thead>\n",
       "  <tbody>\n",
       "    <tr>\n",
       "      <th>0</th>\n",
       "      <td>Alice</td>\n",
       "      <td>55000</td>\n",
       "      <td>3</td>\n",
       "    </tr>\n",
       "    <tr>\n",
       "      <th>1</th>\n",
       "      <td>Bob</td>\n",
       "      <td>66000</td>\n",
       "      <td>5</td>\n",
       "    </tr>\n",
       "    <tr>\n",
       "      <th>2</th>\n",
       "      <td>Charlie</td>\n",
       "      <td>90000</td>\n",
       "      <td>8</td>\n",
       "    </tr>\n",
       "  </tbody>\n",
       "</table>\n",
       "</div>"
      ],
      "text/plain": [
       "      Name  Salary  Experience (years)\n",
       "0    Alice   55000                   3\n",
       "1      Bob   66000                   5\n",
       "2  Charlie   90000                   8"
      ]
     },
     "execution_count": 52,
     "metadata": {},
     "output_type": "execute_result"
    }
   ],
   "source": [
    "# I don't want float. I want int instead\n",
    "df[\"Salary\"] =  df[\"Salary\"].astype(int)\n",
    "df"
   ]
  },
  {
   "cell_type": "markdown",
   "id": "d2916f0e-128d-48d8-9f8e-0fbe675e5976",
   "metadata": {},
   "source": [
    " This is more than sufficient to have very good understanding of Series. The last example best illustrates the need of apply() but using DataFrame. Just like Series, DataFrame is also a Data Structure of Pandas. Considering the significant size of this notebook, let's delve deeper into it in the next notebook. Stay inquisitive!"
   ]
  }
 ],
 "metadata": {
  "kernelspec": {
   "display_name": "Python 3 (ipykernel)",
   "language": "python",
   "name": "python3"
  },
  "language_info": {
   "codemirror_mode": {
    "name": "ipython",
    "version": 3
   },
   "file_extension": ".py",
   "mimetype": "text/x-python",
   "name": "python",
   "nbconvert_exporter": "python",
   "pygments_lexer": "ipython3",
   "version": "3.12.1"
  }
 },
 "nbformat": 4,
 "nbformat_minor": 5
}
