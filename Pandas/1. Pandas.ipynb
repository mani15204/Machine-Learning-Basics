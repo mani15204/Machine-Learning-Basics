{
 "cells": [
  {
   "cell_type": "markdown",
   "id": "35add203-c40f-4452-b774-196b4aaf8199",
   "metadata": {},
   "source": [
    "# **Pandas**"
   ]
  },
  {
   "cell_type": "markdown",
   "id": "f9280fdd-c38d-42e3-8ca6-fe34ee43588d",
   "metadata": {},
   "source": [
    "Pandas is an open-source data manipulation and analysis library for python. <br>\n",
    "It provides data structures for efficiently storing and manipulating large datasets <br> It also provides tools for working with structured data. <br>\n",
    "Well suited for data cleaning, exploring, and analyzing data for Data Science and Machine Learning."
   ]
  },
  {
   "cell_type": "code",
   "execution_count": 1,
   "id": "7a720f12-16d0-4e41-ae08-2a607bdf0c32",
   "metadata": {},
   "outputs": [
    {
     "data": {
      "text/plain": [
       "0    1\n",
       "1    2\n",
       "2    3\n",
       "dtype: int64"
      ]
     },
     "execution_count": 1,
     "metadata": {},
     "output_type": "execute_result"
    }
   ],
   "source": [
    "# Importing Pandas - method 1\n",
    "import pandas\n",
    "pandas.Series([1,2,3])"
   ]
  },
  {
   "cell_type": "code",
   "execution_count": 2,
   "id": "61614c80-368e-4c56-bfdf-da1d9bba93e9",
   "metadata": {},
   "outputs": [
    {
     "data": {
      "text/plain": [
       "0    1\n",
       "1    2\n",
       "2    3\n",
       "3    4\n",
       "dtype: int64"
      ]
     },
     "execution_count": 2,
     "metadata": {},
     "output_type": "execute_result"
    }
   ],
   "source": [
    "# Importing Pandas - method 2  (Used widely by convention)\n",
    "import pandas as pd    # pd is alias name\n",
    "pd.Series([1,2,3,4])"
   ]
  },
  {
   "cell_type": "markdown",
   "id": "6dd722b4-9651-4650-968a-be418f260502",
   "metadata": {},
   "source": [
    "<br><br>There you go! Now you know the introduction to pandas. <br>\n",
    "If pandas not installed type \"!pip install pandas\" in the cell and run. <br>\n",
    "Curious about what Series is? Well, let's dive into it in next notebook!"
   ]
  }
 ],
 "metadata": {
  "kernelspec": {
   "display_name": "Python 3 (ipykernel)",
   "language": "python",
   "name": "python3"
  },
  "language_info": {
   "codemirror_mode": {
    "name": "ipython",
    "version": 3
   },
   "file_extension": ".py",
   "mimetype": "text/x-python",
   "name": "python",
   "nbconvert_exporter": "python",
   "pygments_lexer": "ipython3",
   "version": "3.12.1"
  }
 },
 "nbformat": 4,
 "nbformat_minor": 5
}
