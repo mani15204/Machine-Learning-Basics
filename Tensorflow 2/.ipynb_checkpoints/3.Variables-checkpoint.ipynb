{
 "cells": [
  {
   "cell_type": "markdown",
   "id": "e7451635-3eff-44ee-a102-47cb0429fa46",
   "metadata": {},
   "source": [
    "# **3. Variables**"
   ]
  },
  {
   "cell_type": "markdown",
   "id": "8a38b724-6296-4e1e-ab79-5576f13b533a",
   "metadata": {},
   "source": [
    "In the previous notebook we have seen about Tensors. We were discussing about it's fluctuating mutability. So now, where to store model weights (or any other mutable state) that keeps on changing? We need to ensure mutability. So, we use \"Variables\". Let's get started!"
   ]
  },
  {
   "cell_type": "code",
   "execution_count": 4,
   "id": "9ee253d3-5f7d-47c9-9b37-4e2d9c7d0d7a",
   "metadata": {},
   "outputs": [],
   "source": [
    "# Importing tensorflow\n",
    "import tensorflow as tf"
   ]
  },
  {
   "cell_type": "code",
   "execution_count": 8,
   "id": "6cd1ddf8-2d7e-4756-a429-5c28516680c4",
   "metadata": {},
   "outputs": [
    {
     "data": {
      "text/plain": [
       "<tf.Variable 'Variable:0' shape=(3,) dtype=float32, numpy=array([0., 0., 0.], dtype=float32)>"
      ]
     },
     "execution_count": 8,
     "metadata": {},
     "output_type": "execute_result"
    }
   ],
   "source": [
    "# Variable declaration\n",
    "var = tf.Variable([.0,.0,.0])\n",
    "var"
   ]
  },
  {
   "cell_type": "code",
   "execution_count": 15,
   "id": "280ed917-32ef-48aa-b09f-341e97450da4",
   "metadata": {},
   "outputs": [
    {
     "data": {
      "text/plain": [
       "<tf.Variable 'Variable:0' shape=(3,) dtype=float32, numpy=array([1., 2., 3.], dtype=float32)>"
      ]
     },
     "execution_count": 15,
     "metadata": {},
     "output_type": "execute_result"
    }
   ],
   "source": [
    "# Ensuring mutability\n",
    "var.assign([1,2,3])    # makes changes. Doesn't return the changed variable.\n",
    "var"
   ]
  },
  {
   "cell_type": "code",
   "execution_count": 16,
   "id": "fd35259a-9d9d-4578-8ee5-9b0f86876666",
   "metadata": {},
   "outputs": [
    {
     "data": {
      "text/plain": [
       "<tf.Variable 'UnreadVariable' shape=(3,) dtype=float32, numpy=array([2., 3., 4.], dtype=float32)>"
      ]
     },
     "execution_count": 16,
     "metadata": {},
     "output_type": "execute_result"
    }
   ],
   "source": [
    "# Vector operations - Adding 1 to all the three elements\n",
    "var.assign_add([1,1,1])"
   ]
  }
 ],
 "metadata": {
  "kernelspec": {
   "display_name": "Python 3 (ipykernel)",
   "language": "python",
   "name": "python3"
  },
  "language_info": {
   "codemirror_mode": {
    "name": "ipython",
    "version": 3
   },
   "file_extension": ".py",
   "mimetype": "text/x-python",
   "name": "python",
   "nbconvert_exporter": "python",
   "pygments_lexer": "ipython3",
   "version": "3.11.0"
  }
 },
 "nbformat": 4,
 "nbformat_minor": 5
}
