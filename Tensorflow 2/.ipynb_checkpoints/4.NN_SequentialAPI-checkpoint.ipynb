{
 "cells": [
  {
   "cell_type": "markdown",
   "id": "69f40b96-afbb-4b11-9bcf-f31d173b5e79",
   "metadata": {},
   "source": [
    "# **4. Introduction to Neural Networks - Sequential and Functional API**"
   ]
  },
  {
   "cell_type": "markdown",
   "id": "6b9807ee-810e-4dff-99ca-ab30de7508b7",
   "metadata": {},
   "source": [
    "In this notebook, let's get introduced to what Neural Networks are! Let's get the flavor of Sequential API and its basic layers"
   ]
  },
  {
   "cell_type": "code",
   "execution_count": 1,
   "id": "c42d6266-b361-48d3-9708-0299cec97cab",
   "metadata": {},
   "outputs": [
    {
     "name": "stdout",
     "output_type": "stream",
     "text": [
      "WARNING:tensorflow:From C:\\Users\\User\\AppData\\Local\\Programs\\Python\\Python311\\Lib\\site-packages\\keras\\src\\losses.py:2976: The name tf.losses.sparse_softmax_cross_entropy is deprecated. Please use tf.compat.v1.losses.sparse_softmax_cross_entropy instead.\n",
      "\n"
     ]
    }
   ],
   "source": [
    "# Importing modules\n",
    "import tensorflow as tf\n",
    "from tensorflow import keras    # High-level API of Tensorflow\n",
    "from tensorflow.keras import layers\n",
    "from tensorflow.keras.datasets import mnist"
   ]
  },
  {
   "cell_type": "code",
   "execution_count": 4,
   "id": "3b877209-6b00-45b2-98c5-1b1202157fba",
   "metadata": {},
   "outputs": [],
   "source": [
    "# Using of GPU (Optional)\n",
    "physical_devices = tf.config.list_physical_devices('GPU')\n",
    "tf.config.experimental.set_memory_growth(physical_devices[0], True)"
   ]
  },
  {
   "cell_type": "code",
   "execution_count": 8,
   "id": "e285dcc3-b13c-4e01-9876-2cbaa7f787ab",
   "metadata": {},
   "outputs": [
    {
     "name": "stdout",
     "output_type": "stream",
     "text": [
      "(60000, 28, 28)\n",
      "(10000, 28, 28)\n"
     ]
    },
    {
     "data": {
      "text/plain": [
       "array([[[0, 0, 0, ..., 0, 0, 0],\n",
       "        [0, 0, 0, ..., 0, 0, 0],\n",
       "        [0, 0, 0, ..., 0, 0, 0],\n",
       "        ...,\n",
       "        [0, 0, 0, ..., 0, 0, 0],\n",
       "        [0, 0, 0, ..., 0, 0, 0],\n",
       "        [0, 0, 0, ..., 0, 0, 0]],\n",
       "\n",
       "       [[0, 0, 0, ..., 0, 0, 0],\n",
       "        [0, 0, 0, ..., 0, 0, 0],\n",
       "        [0, 0, 0, ..., 0, 0, 0],\n",
       "        ...,\n",
       "        [0, 0, 0, ..., 0, 0, 0],\n",
       "        [0, 0, 0, ..., 0, 0, 0],\n",
       "        [0, 0, 0, ..., 0, 0, 0]],\n",
       "\n",
       "       [[0, 0, 0, ..., 0, 0, 0],\n",
       "        [0, 0, 0, ..., 0, 0, 0],\n",
       "        [0, 0, 0, ..., 0, 0, 0],\n",
       "        ...,\n",
       "        [0, 0, 0, ..., 0, 0, 0],\n",
       "        [0, 0, 0, ..., 0, 0, 0],\n",
       "        [0, 0, 0, ..., 0, 0, 0]],\n",
       "\n",
       "       ...,\n",
       "\n",
       "       [[0, 0, 0, ..., 0, 0, 0],\n",
       "        [0, 0, 0, ..., 0, 0, 0],\n",
       "        [0, 0, 0, ..., 0, 0, 0],\n",
       "        ...,\n",
       "        [0, 0, 0, ..., 0, 0, 0],\n",
       "        [0, 0, 0, ..., 0, 0, 0],\n",
       "        [0, 0, 0, ..., 0, 0, 0]],\n",
       "\n",
       "       [[0, 0, 0, ..., 0, 0, 0],\n",
       "        [0, 0, 0, ..., 0, 0, 0],\n",
       "        [0, 0, 0, ..., 0, 0, 0],\n",
       "        ...,\n",
       "        [0, 0, 0, ..., 0, 0, 0],\n",
       "        [0, 0, 0, ..., 0, 0, 0],\n",
       "        [0, 0, 0, ..., 0, 0, 0]],\n",
       "\n",
       "       [[0, 0, 0, ..., 0, 0, 0],\n",
       "        [0, 0, 0, ..., 0, 0, 0],\n",
       "        [0, 0, 0, ..., 0, 0, 0],\n",
       "        ...,\n",
       "        [0, 0, 0, ..., 0, 0, 0],\n",
       "        [0, 0, 0, ..., 0, 0, 0],\n",
       "        [0, 0, 0, ..., 0, 0, 0]]], dtype=uint8)"
      ]
     },
     "execution_count": 8,
     "metadata": {},
     "output_type": "execute_result"
    }
   ],
   "source": [
    "# Loading the MNIST dataset\n",
    "(X_train, y_train), (X_test, y_test) = mnist.load_data()\n",
    "print(X_train.shape)   # 60000 images -> 28x28 \n",
    "print(X_test.shape)    # 10000 images -> 28x28\n",
    "\n",
    "X_train"
   ]
  },
  {
   "cell_type": "code",
   "execution_count": 10,
   "id": "b2609702-b700-4332-8488-b1ebe77b55eb",
   "metadata": {},
   "outputs": [
    {
     "data": {
      "text/plain": [
       "array([[0., 0., 0., ..., 0., 0., 0.],\n",
       "       [0., 0., 0., ..., 0., 0., 0.],\n",
       "       [0., 0., 0., ..., 0., 0., 0.],\n",
       "       ...,\n",
       "       [0., 0., 0., ..., 0., 0., 0.],\n",
       "       [0., 0., 0., ..., 0., 0., 0.],\n",
       "       [0., 0., 0., ..., 0., 0., 0.]], dtype=float32)"
      ]
     },
     "execution_count": 10,
     "metadata": {},
     "output_type": "execute_result"
    }
   ],
   "source": [
    "# Flattening the array\n",
    "X_train = X_train.reshape(-1, 28*28).astype('float32') / 255\n",
    "X_test = X_test.reshape(-1, 28*28).astype('float32') / 255\n",
    "\n",
    "X_train"
   ]
  },
  {
   "cell_type": "markdown",
   "id": "cc48a630-169b-4c53-bacc-e4b1fab9c558",
   "metadata": {},
   "source": [
    "<br><br>Now let's learn to build a basic Neural Network Model. Building a model is the most crucial and critical part of Neural Networks and is sometimes challenging for beginners!"
   ]
  },
  {
   "cell_type": "markdown",
   "id": "66443893-38e8-446c-b45c-8d0ee8f25241",
   "metadata": {},
   "source": [
    "<br>**Sequential API**"
   ]
  },
  {
   "cell_type": "code",
   "execution_count": 14,
   "id": "bf142ea7-8979-401c-8d47-9d3c8fa04cc5",
   "metadata": {},
   "outputs": [
    {
     "name": "stdout",
     "output_type": "stream",
     "text": [
      "Epoch 1/5\n",
      "1875/1875 - 15s - loss: 0.1890 - accuracy: 0.9435 - 15s/epoch - 8ms/step\n",
      "Epoch 2/5\n",
      "1875/1875 - 14s - loss: 0.0805 - accuracy: 0.9750 - 14s/epoch - 7ms/step\n",
      "Epoch 3/5\n",
      "1875/1875 - 15s - loss: 0.0549 - accuracy: 0.9827 - 15s/epoch - 8ms/step\n",
      "Epoch 4/5\n",
      "1875/1875 - 14s - loss: 0.0384 - accuracy: 0.9878 - 14s/epoch - 8ms/step\n",
      "Epoch 5/5\n",
      "1875/1875 - 15s - loss: 0.0330 - accuracy: 0.9894 - 15s/epoch - 8ms/step\n",
      "313/313 - 1s - loss: 0.0726 - accuracy: 0.9794 - 1s/epoch - 4ms/step\n"
     ]
    },
    {
     "data": {
      "text/plain": [
       "[0.07255465537309647, 0.9793999791145325]"
      ]
     },
     "execution_count": 14,
     "metadata": {},
     "output_type": "execute_result"
    }
   ],
   "source": [
    "# Building model - Method 1\n",
    "\n",
    "model = keras.Sequential(\n",
    "    [\n",
    "        layers.Dense(512, activation='relu'),\n",
    "        layers.Dense(256, activation='relu'),\n",
    "        layers.Dense(10),\n",
    "    ]\n",
    ")\n",
    "\n",
    "model.compile(\n",
    "    loss=keras.losses.SparseCategoricalCrossentropy(from_logits=True),\n",
    "    optimizer = keras.optimizers.Adam(learning_rate=0.001),\n",
    "    metrics = ['accuracy'], \n",
    ")\n",
    "\n",
    "model.fit(X_train, y_train, batch_size=32, epochs=5, verbose=2)\n",
    "model.evaluate(X_test, y_test, batch_size=32, verbose=2)"
   ]
  },
  {
   "cell_type": "code",
   "execution_count": 18,
   "id": "da9de2ee-90e4-4e5c-b4f9-105c55d99aa8",
   "metadata": {},
   "outputs": [
    {
     "name": "stdout",
     "output_type": "stream",
     "text": [
      "Model: \"sequential_5\"\n",
      "_________________________________________________________________\n",
      " Layer (type)                Output Shape              Param #   \n",
      "=================================================================\n",
      " dense_21 (Dense)            (None, 512)               401920    \n",
      "                                                                 \n",
      " dense_22 (Dense)            (None, 256)               131328    \n",
      "                                                                 \n",
      " dense_23 (Dense)            (None, 10)                2570      \n",
      "                                                                 \n",
      "=================================================================\n",
      "Total params: 535818 (2.04 MB)\n",
      "Trainable params: 535818 (2.04 MB)\n",
      "Non-trainable params: 0 (0.00 Byte)\n",
      "_________________________________________________________________\n"
     ]
    }
   ],
   "source": [
    "# Building model - Method 2\n",
    "\n",
    "model = keras.Sequential()\n",
    "model.add(keras.Input(shape=(28*28)))\n",
    "model.add(layers.Dense(512, activation='relu'))\n",
    "model.add(layers.Dense(256, activation='relu'))\n",
    "model.add(layers.Dense(10, activation='softmax'))\n",
    "\n",
    "model.summary()"
   ]
  },
  {
   "cell_type": "markdown",
   "id": "142fa7db-37aa-481d-b5a6-16af7df33513",
   "metadata": {},
   "source": [
    "<br>**Functional API**<br>\n",
    "Functional APIs are bit more flexible than Sequential APIs"
   ]
  },
  {
   "cell_type": "code",
   "execution_count": 19,
   "id": "603cb2f4-2537-4e31-babc-936120bf3b21",
   "metadata": {},
   "outputs": [
    {
     "name": "stdout",
     "output_type": "stream",
     "text": [
      "Epoch 1/5\n",
      "1875/1875 - 18s - loss: 0.1832 - accuracy: 0.9446 - 18s/epoch - 10ms/step\n",
      "Epoch 2/5\n",
      "1875/1875 - 16s - loss: 0.0798 - accuracy: 0.9751 - 16s/epoch - 8ms/step\n",
      "Epoch 3/5\n",
      "1875/1875 - 16s - loss: 0.0521 - accuracy: 0.9838 - 16s/epoch - 8ms/step\n",
      "Epoch 4/5\n",
      "1875/1875 - 16s - loss: 0.0411 - accuracy: 0.9865 - 16s/epoch - 8ms/step\n",
      "Epoch 5/5\n",
      "1875/1875 - 16s - loss: 0.0338 - accuracy: 0.9896 - 16s/epoch - 8ms/step\n",
      "313/313 - 1s - loss: 0.0650 - accuracy: 0.9830 - 1s/epoch - 4ms/step\n"
     ]
    },
    {
     "data": {
      "text/plain": [
       "[0.06497776508331299, 0.9829999804496765]"
      ]
     },
     "execution_count": 19,
     "metadata": {},
     "output_type": "execute_result"
    }
   ],
   "source": [
    "inputs = keras.Input(shape=(28*28))\n",
    "x = layers.Dense(512, activation='relu')(inputs)\n",
    "x = layers.Dense(256, activation='relu')(x)\n",
    "outputs = layers.Dense(10, activation='softmax')(x)\n",
    "\n",
    "model = keras.Model(inputs = inputs, outputs = outputs)\n",
    "model.compile(\n",
    "    loss = keras.losses.SparseCategoricalCrossentropy(from_logits=False),\n",
    "    optimizer = keras.optimizers.Adam(0.001),\n",
    "    metrics = ['accuracy'],\n",
    ")\n",
    "\n",
    "model.fit(X_train, y_train, batch_size=32, epochs=5, verbose=2)\n",
    "model.evaluate(X_test, y_test, batch_size=32, verbose=2)"
   ]
  },
  {
   "cell_type": "code",
   "execution_count": null,
   "id": "6002f31e-b2b9-48f8-96d7-5b6815872bc6",
   "metadata": {},
   "outputs": [],
   "source": []
  }
 ],
 "metadata": {
  "kernelspec": {
   "display_name": "Python 3 (ipykernel)",
   "language": "python",
   "name": "python3"
  },
  "language_info": {
   "codemirror_mode": {
    "name": "ipython",
    "version": 3
   },
   "file_extension": ".py",
   "mimetype": "text/x-python",
   "name": "python",
   "nbconvert_exporter": "python",
   "pygments_lexer": "ipython3",
   "version": "3.11.0"
  }
 },
 "nbformat": 4,
 "nbformat_minor": 5
}
