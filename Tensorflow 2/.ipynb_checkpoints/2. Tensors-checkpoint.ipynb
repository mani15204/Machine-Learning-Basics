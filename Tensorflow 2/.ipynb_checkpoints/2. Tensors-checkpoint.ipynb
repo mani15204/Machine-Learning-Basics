{
 "cells": [
  {
   "cell_type": "markdown",
   "id": "fd3da07e-2dc2-49a2-96d1-671f567cac58",
   "metadata": {},
   "source": [
    "# **2. Tensors**"
   ]
  },
  {
   "cell_type": "markdown",
   "id": "6189dd64-75ac-4a3b-a8cd-03927e8b331f",
   "metadata": {},
   "source": [
    "TensorFlow revolves around the concept of Tensors. A tensor is a multi-dimensional array, similar to a NumPy array, having different ranks (0D, 1D, 2D, etc..) representing scalars, vectors, matrices and higher-dimensional arrays.\n",
    "\n",
    "**Properties of Tensors:**<br>\n",
    "1. **Rank** - No. of dimensions\n",
    "2. **Shape** - No. of elements along each dimension  e.g. 2x3 matrix has shape (2,3)\n",
    "3. **Data Type** - Type of data  e.g. tf.float32, tf.int64, tf.string\n",
    "4. **Immutable** - Values cannot be changed after creation"
   ]
  },
  {
   "cell_type": "code",
   "execution_count": 2,
   "id": "269a7c05-d0c7-4bf3-adb1-967fd6e4008d",
   "metadata": {},
   "outputs": [],
   "source": [
    "# Importing tensorflow\n",
    "import tensorflow as tf"
   ]
  },
  {
   "cell_type": "code",
   "execution_count": 5,
   "id": "0455bc10-af1f-4293-8836-f3a2e50911e5",
   "metadata": {},
   "outputs": [
    {
     "name": "stdout",
     "output_type": "stream",
     "text": [
      "Scalar: tf.Tensor(3, shape=(), dtype=int32)\n",
      "Vector: tf.Tensor([1 2 3], shape=(3,), dtype=int32)\n",
      "Matrix:\n",
      "tf.Tensor(\n",
      "[[1 2 3]\n",
      " [4 5 6]], shape=(2, 3), dtype=int32)\n",
      "3D Tensor:\n"
     ]
    },
    {
     "data": {
      "text/plain": [
       "<tf.Tensor: shape=(2, 2, 2), dtype=int32, numpy=\n",
       "array([[[1, 2],\n",
       "        [3, 4]],\n",
       "\n",
       "       [[5, 6],\n",
       "        [7, 8]]])>"
      ]
     },
     "execution_count": 5,
     "metadata": {},
     "output_type": "execute_result"
    }
   ],
   "source": [
    "# Scalars (Rank 0)\n",
    "scalar = tf.constant(3)\n",
    "print(\"Scalar:\", scalar)\n",
    "\n",
    "# Vectors  (Rank 1)\n",
    "vector = tf.constant([1,2,3])\n",
    "print(\"Vector:\", vector)\n",
    "\n",
    "# Matrices (Rank 2)\n",
    "matrix = tf.constant([[1,2,3],[4,5,6]])\n",
    "print(\"Matrix:\")\n",
    "print(matrix)\n",
    "\n",
    "# Higher dimensional Tensors (Rank > 2)\n",
    "tensor_3d = tf.constant([[[1,2],[3,4]],[[5,6],[7,8]]])  # Assuming 3-D\n",
    "print(\"3D Tensor:\")\n",
    "tensor_3d"
   ]
  },
  {
   "cell_type": "code",
   "execution_count": 6,
   "id": "dc8d084b-af12-47e1-ac77-1b540a9ae3b1",
   "metadata": {},
   "outputs": [
    {
     "data": {
      "text/plain": [
       "TensorShape([2, 2, 2])"
      ]
     },
     "execution_count": 6,
     "metadata": {},
     "output_type": "execute_result"
    }
   ],
   "source": [
    "# Shape of Tensor\n",
    "tensor_3d.shape"
   ]
  },
  {
   "cell_type": "code",
   "execution_count": 7,
   "id": "523a0fe8-4e27-4991-9305-2f63a677dcf3",
   "metadata": {},
   "outputs": [
    {
     "data": {
      "text/plain": [
       "tf.int32"
      ]
     },
     "execution_count": 7,
     "metadata": {},
     "output_type": "execute_result"
    }
   ],
   "source": [
    "# Data type of tensor\n",
    "tensor_3d.dtype"
   ]
  },
  {
   "cell_type": "code",
   "execution_count": 8,
   "id": "8cac98ef-1be2-4749-b2af-ba8bb4e9085b",
   "metadata": {},
   "outputs": [
    {
     "name": "stdout",
     "output_type": "stream",
     "text": [
      "tf.Tensor(\n",
      "[[[1 2]\n",
      "  [3 4]]\n",
      "\n",
      " [[5 6]\n",
      "  [7 8]]], shape=(2, 2, 2), dtype=int32)\n"
     ]
    }
   ],
   "source": [
    "# Original Tensor\n",
    "print(tensor_3d)"
   ]
  },
  {
   "cell_type": "code",
   "execution_count": 9,
   "id": "aa58a4b6-0289-4671-b37a-782c474c0421",
   "metadata": {},
   "outputs": [
    {
     "name": "stdout",
     "output_type": "stream",
     "text": [
      "tf.Tensor(\n",
      "[[[ 4  8]\n",
      "  [12 16]]\n",
      "\n",
      " [[20 24]\n",
      "  [28 32]]], shape=(2, 2, 2), dtype=int32)\n"
     ]
    }
   ],
   "source": [
    "# Tensor after multiplying with 4\n",
    "print(tensor_3d*4)"
   ]
  },
  {
   "cell_type": "code",
   "execution_count": 10,
   "id": "80688519-4146-4c9d-8f0f-4abde01bd885",
   "metadata": {},
   "outputs": [
    {
     "name": "stdout",
     "output_type": "stream",
     "text": [
      "tf.Tensor(\n",
      "[[[1 2]\n",
      "  [3 4]]\n",
      "\n",
      " [[5 6]\n",
      "  [7 8]]], shape=(2, 2, 2), dtype=int32)\n"
     ]
    }
   ],
   "source": [
    "# Changes not saved until equalized with tensor_3d again\n",
    "print(tensor_3d)"
   ]
  },
  {
   "cell_type": "code",
   "execution_count": 11,
   "id": "d506b81b-a177-453d-bb9b-28a78fa37477",
   "metadata": {},
   "outputs": [
    {
     "data": {
      "text/plain": [
       "<tf.Tensor: shape=(2, 2, 2), dtype=int32, numpy=\n",
       "array([[[ 4,  8],\n",
       "        [12, 16]],\n",
       "\n",
       "       [[20, 24],\n",
       "        [28, 32]]])>"
      ]
     },
     "execution_count": 11,
     "metadata": {},
     "output_type": "execute_result"
    }
   ],
   "source": [
    "# Applying changes\n",
    "tensor_3d = tensor_3d*4\n",
    "tensor_3d"
   ]
  },
  {
   "cell_type": "code",
   "execution_count": 13,
   "id": "47835d51-9dbd-4282-845c-d27a5cb6496c",
   "metadata": {},
   "outputs": [
    {
     "name": "stdout",
     "output_type": "stream",
     "text": [
      "tf.Tensor(\n",
      "[[1 2 3]\n",
      " [4 5 6]], shape=(2, 3), dtype=int32)\n"
     ]
    },
    {
     "data": {
      "text/plain": [
       "<tf.Tensor: shape=(3, 2), dtype=int32, numpy=\n",
       "array([[1, 4],\n",
       "       [2, 5],\n",
       "       [3, 6]])>"
      ]
     },
     "execution_count": 13,
     "metadata": {},
     "output_type": "execute_result"
    }
   ],
   "source": [
    "# Transpose of a matrix - Taking 2D for easy visualizing - applicable for all dimensions.\n",
    "print(matrix)\n",
    "tf.transpose(matrix)"
   ]
  },
  {
   "cell_type": "code",
   "execution_count": 14,
   "id": "9aec4b52-edf0-4e02-978d-ba09db7f4de1",
   "metadata": {},
   "outputs": [
    {
     "data": {
      "text/plain": [
       "<tf.Tensor: shape=(2, 3), dtype=int32, numpy=\n",
       "array([[1, 2, 3],\n",
       "       [4, 5, 6]])>"
      ]
     },
     "execution_count": 14,
     "metadata": {},
     "output_type": "execute_result"
    }
   ],
   "source": [
    "matrix"
   ]
  },
  {
   "cell_type": "code",
   "execution_count": 15,
   "id": "ec46b3e9-a38e-4468-bdb4-c2bf8befdddd",
   "metadata": {},
   "outputs": [
    {
     "data": {
      "text/plain": [
       "<tf.Tensor: shape=(2, 3), dtype=int32, numpy=\n",
       "array([[ 2,  4,  6],\n",
       "       [ 8, 10, 12]])>"
      ]
     },
     "execution_count": 15,
     "metadata": {},
     "output_type": "execute_result"
    }
   ],
   "source": [
    "matrix+matrix"
   ]
  },
  {
   "cell_type": "code",
   "execution_count": 18,
   "id": "d530d05c-8d2a-4a02-a65a-353456fa77e0",
   "metadata": {},
   "outputs": [
    {
     "data": {
      "text/plain": [
       "<tf.Tensor: shape=(3, 2), dtype=int32, numpy=\n",
       "array([[1, 4],\n",
       "       [2, 5],\n",
       "       [3, 6]])>"
      ]
     },
     "execution_count": 18,
     "metadata": {},
     "output_type": "execute_result"
    }
   ],
   "source": [
    "# Transpose of a matrix\n",
    "tf.transpose(matrix)"
   ]
  },
  {
   "cell_type": "code",
   "execution_count": 20,
   "id": "49f2a752-f0ab-46eb-a5c6-60cac1c19888",
   "metadata": {},
   "outputs": [
    {
     "data": {
      "text/plain": [
       "<tf.Tensor: shape=(2, 2), dtype=int32, numpy=\n",
       "array([[14, 32],\n",
       "       [32, 77]])>"
      ]
     },
     "execution_count": 20,
     "metadata": {},
     "output_type": "execute_result"
    }
   ],
   "source": [
    "# Matrix multiplication - multiplying matrix with its transpose here.\n",
    "matrix @ tf.transpose(matrix)    # (2,3) multiplied with (3,2) -> (2,2)"
   ]
  },
  {
   "cell_type": "code",
   "execution_count": 21,
   "id": "2ceecc8d-e95d-4158-a02f-20c766399a11",
   "metadata": {},
   "outputs": [
    {
     "name": "stdout",
     "output_type": "stream",
     "text": [
      "tf.Tensor(\n",
      "[[[ 4  8]\n",
      "  [12 16]]\n",
      "\n",
      " [[20 24]\n",
      "  [28 32]]], shape=(2, 2, 2), dtype=int32)\n",
      "tf.Tensor(\n",
      "[[[ 22  42]\n",
      "  [ 62  82]]\n",
      "\n",
      " [[102 122]\n",
      "  [142 162]]], shape=(2, 2, 2), dtype=int32)\n",
      "tf.Tensor(\n",
      "[[[ 19  35]\n",
      "  [ 51  67]]\n",
      "\n",
      " [[ 83  99]\n",
      "  [115 131]]], shape=(2, 2, 2), dtype=int32)\n"
     ]
    }
   ],
   "source": [
    "# Concatenation of tensors\n",
    "\n",
    "# Let's create sample tensors\n",
    "tensor1 = tensor_3d\n",
    "tensor2 = tensor_3d*5+2\n",
    "tensor3 = tensor_3d*4+3\n",
    "\n",
    "print(tensor1)\n",
    "print(tensor2)\n",
    "print(tensor3)"
   ]
  },
  {
   "cell_type": "code",
   "execution_count": 52,
   "id": "f80919ea-1020-41c0-aaae-ec437b1890e3",
   "metadata": {},
   "outputs": [
    {
     "data": {
      "text/plain": [
       "<tf.Tensor: shape=(6, 2, 2), dtype=int32, numpy=\n",
       "array([[[  4,   8],\n",
       "        [ 12,  16]],\n",
       "\n",
       "       [[ 20,  24],\n",
       "        [ 28,  32]],\n",
       "\n",
       "       [[ 22,  42],\n",
       "        [ 62,  82]],\n",
       "\n",
       "       [[102, 122],\n",
       "        [142, 162]],\n",
       "\n",
       "       [[ 19,  35],\n",
       "        [ 51,  67]],\n",
       "\n",
       "       [[ 83,  99],\n",
       "        [115, 131]]])>"
      ]
     },
     "execution_count": 52,
     "metadata": {},
     "output_type": "execute_result"
    }
   ],
   "source": [
    "# Concatenating\n",
    "tensor_concat = tf.concat([tensor1, tensor2, tensor3], axis=0)\n",
    "tensor_concat"
   ]
  },
  {
   "cell_type": "markdown",
   "id": "ebae7b5f-fce9-4bb9-a29c-ef86fac64fb1",
   "metadata": {},
   "source": [
    "<br>The above snippet for concatenation brought contents of all the three 3-D tensors into one 3-D tensor. Look at the shape.\n",
    "\n",
    "(2,2,2) -> A tensor having 2 elements of type 2x2 <br>\n",
    "(6,2,2) -> A tensor having 6 elements of type 2x2<br>"
   ]
  },
  {
   "cell_type": "code",
   "execution_count": 34,
   "id": "728918fc-adae-44ee-b058-2eeb50c0bd68",
   "metadata": {},
   "outputs": [
    {
     "name": "stdout",
     "output_type": "stream",
     "text": [
      "tf.Tensor([2.  1.  0.1], shape=(3,), dtype=float32)\n",
      "tf.Tensor([0.6590011  0.24243298 0.09856588], shape=(3,), dtype=float32)\n"
     ]
    }
   ],
   "source": [
    "# Applying Activation Function  -  Softmax\n",
    "\n",
    "# 1. Initializing vector\n",
    "vector1 = tf.constant([2., 1., .1])\n",
    "print(vector1)\n",
    "\n",
    "# 2. Applying softmax to logits\n",
    "print(tf.nn.softmax(vector1))"
   ]
  },
  {
   "cell_type": "markdown",
   "id": "e299153f-5545-4db5-8d98-32ef66902fbf",
   "metadata": {},
   "source": [
    "<br> **Understanding Softmax Activation function:** <br>\n",
    "Formula:  &emsp;e^(yi)/sum(e^(yj)) <br>\n",
    "\n",
    "denominator = e^2 + e^1 + e^0.1 = 11.2125\n",
    "\n",
    "softmax([2.0, 1.0, 0.1]) = [ans(2.0), ans(1.0), ans(0.1)]\n",
    "\n",
    "ans(2.0) = e^(2.0)/denominator = (7.389)/11.2125 = 0.6590011\n",
    "ans(1.0) = e^(1.0)/denominator = 0.2424\n",
    "ans(0.1) = e^(0.1)/denominator = 0.0985\n",
    "\n",
    "So, softmax([2.,1.,.1]) = [0.659011, 0.2424, 0.0985]"
   ]
  },
  {
   "cell_type": "code",
   "execution_count": 39,
   "id": "037afe49-e7d4-4168-9868-aa69965837b5",
   "metadata": {},
   "outputs": [
    {
     "data": {
      "text/plain": [
       "array([0.6590011 , 0.24243298, 0.09856588], dtype=float32)"
      ]
     },
     "execution_count": 39,
     "metadata": {},
     "output_type": "execute_result"
    }
   ],
   "source": [
    "# Converting into NumPy array\n",
    "tf.nn.softmax(vector1).numpy()"
   ]
  },
  {
   "cell_type": "code",
   "execution_count": 40,
   "id": "3dca0931-4e18-42d2-a3f6-6b0eaedc5d94",
   "metadata": {},
   "outputs": [
    {
     "data": {
      "text/plain": [
       "[0.6590011119842529, 0.24243298172950745, 0.09856588393449783]"
      ]
     },
     "execution_count": 40,
     "metadata": {},
     "output_type": "execute_result"
    }
   ],
   "source": [
    "# Converting into Python List\n",
    "tf.nn.softmax(vector1).numpy().tolist()"
   ]
  },
  {
   "cell_type": "code",
   "execution_count": 51,
   "id": "a606897f-5afc-4f23-b5ed-f800f7393126",
   "metadata": {},
   "outputs": [
    {
     "data": {
      "text/plain": [
       "3.1"
      ]
     },
     "execution_count": 51,
     "metadata": {},
     "output_type": "execute_result"
    }
   ],
   "source": [
    "# Summation\n",
    "tf.reduce_sum(vector1).numpy()"
   ]
  },
  {
   "cell_type": "code",
   "execution_count": 54,
   "id": "59dfe5aa-7351-4833-b0c6-3178c71a0903",
   "metadata": {},
   "outputs": [
    {
     "data": {
      "text/plain": [
       "1480"
      ]
     },
     "execution_count": 54,
     "metadata": {},
     "output_type": "execute_result"
    }
   ],
   "source": [
    "# Summation for higher-dimensions\n",
    "tf.reduce_sum(tensor_concat).numpy()"
   ]
  },
  {
   "cell_type": "code",
   "execution_count": 57,
   "id": "0460f817-ad2d-46fc-85cb-4223c953c5e7",
   "metadata": {},
   "outputs": [
    {
     "data": {
      "text/plain": [
       "<tf.Tensor: shape=(3,), dtype=int32, numpy=array([1, 2, 3])>"
      ]
     },
     "execution_count": 57,
     "metadata": {},
     "output_type": "execute_result"
    }
   ],
   "source": [
    "# Converting other iterables to tensor\n",
    "tf.convert_to_tensor([1,2,3]) # More versatile than tf.constant([1,2,3])"
   ]
  },
  {
   "cell_type": "markdown",
   "id": "7258be46-9236-4e06-89e3-7dd78c5f9cfc",
   "metadata": {},
   "source": [
    "**What's difference between tf.constant() and tf.convert_to_tensor()?** <br>\n",
    "1. tf.convert_to_tensor() is more versatile in terms of input types - Python List, NumPy arrays, and even a TensorFlow tensor. If input is a tensor already, it returns the input as it is. Whereas, tf.constant() is designed specifically to create tensors with constant fixed values.\n",
    "2. tf.constant() is explicitly immutable. But the immutability of tf.convert_to_tensor() depends on the input type. If input is already a tensor and it was made of tf.constant() it will be returned as it is, making it immutable."
   ]
  },
  {
   "cell_type": "markdown",
   "id": "508fb283-742a-4449-ade4-eec5ba183093",
   "metadata": {},
   "source": [
    "<br><br> **GPU Configuration for faster computation**"
   ]
  },
  {
   "cell_type": "markdown",
   "id": "92f42499-4c14-4f0a-bb99-df7ef5d013de",
   "metadata": {},
   "source": [
    "While performing complex deep learning tasks, CPUs may load longer to complete the tasks. In order to speed up the tasks, one may use GPUs if it is available with them. It is said that combining GPUs with high-end computer components can render graphics up to 100 times faster than CPUs. If you have one, here's the way to configure"
   ]
  },
  {
   "cell_type": "code",
   "execution_count": 69,
   "id": "6ab33413-254e-4bea-bd34-d30aa1d07b11",
   "metadata": {},
   "outputs": [
    {
     "name": "stdout",
     "output_type": "stream",
     "text": [
      "GPU is NOT present\n"
     ]
    }
   ],
   "source": [
    "# Checking availability of GPU\n",
    "if tf.config.list_physical_devices(\"GPU\"):\n",
    "    print(\"GPU is present\")\n",
    "else:\n",
    "    print(\"GPU is NOT present\")"
   ]
  },
  {
   "cell_type": "code",
   "execution_count": 71,
   "id": "247a004f-6319-4e4c-92ad-3e52cdba3ed7",
   "metadata": {},
   "outputs": [
    {
     "name": "stdout",
     "output_type": "stream",
     "text": [
      "No GPU devices found.\n"
     ]
    }
   ],
   "source": [
    "# List available physical devices (GPUs)\n",
    "devices = tf.config.list_physical_devices(\"GPU\")\n",
    "\n",
    "if devices:\n",
    "    # Set memory growth for each GPU (if available)\n",
    "    for device in devices:\n",
    "        tf.config.experimental.set_memory_growth(device, True)\n",
    "        print(f\"Memory growth set for {device}\")\n",
    "else:\n",
    "    print(\"No GPU devices found.\")"
   ]
  }
 ],
 "metadata": {
  "kernelspec": {
   "display_name": "Python 3 (ipykernel)",
   "language": "python",
   "name": "python3"
  },
  "language_info": {
   "codemirror_mode": {
    "name": "ipython",
    "version": 3
   },
   "file_extension": ".py",
   "mimetype": "text/x-python",
   "name": "python",
   "nbconvert_exporter": "python",
   "pygments_lexer": "ipython3",
   "version": "3.11.0"
  }
 },
 "nbformat": 4,
 "nbformat_minor": 5
}
