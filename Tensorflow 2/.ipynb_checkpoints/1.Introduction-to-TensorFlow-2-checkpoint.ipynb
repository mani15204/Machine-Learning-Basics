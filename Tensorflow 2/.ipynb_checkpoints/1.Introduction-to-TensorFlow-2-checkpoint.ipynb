{
 "cells": [
  {
   "cell_type": "markdown",
   "id": "7c68d487-40d0-4f4b-89bc-e60fceab5a1f",
   "metadata": {},
   "source": [
    "# **Introduction to Tensorflow 2**"
   ]
  },
  {
   "cell_type": "markdown",
   "id": "b385321c-2dfa-48dc-9c87-bf501ed87d3e",
   "metadata": {},
   "source": [
    "**<h3>Overview:</h3>**"
   ]
  },
  {
   "cell_type": "markdown",
   "id": "ba4eeade-bbd2-475a-8305-1782c8fc4d3e",
   "metadata": {},
   "source": [
    "Tensorflow is an <u>open-source machine learning library</u> developed by the **Google Brain team**. It is designed to dacilitate the development and training of machhine learning models, particularly <u>neural networks</u>, for a wide range of applications. Tensorflow provides a comprehensive ecosystem of tools, libraries and community resources that make it a <u>popular choice</u> for researchers and practitioners in the field of Machine Learning and Artificial Intelligence."
   ]
  },
  {
   "cell_type": "markdown",
   "id": "f09c1e83-7716-41b8-bab6-0e132ebe05b2",
   "metadata": {},
   "source": [
    "**<h3>Evolution to Version 2 and it's features:</h3>**"
   ]
  },
  {
   "cell_type": "markdown",
   "id": "b3944ba9-29c5-4588-9b04-9f20e4d9bc02",
   "metadata": {},
   "source": [
    "**1. TensorFlow 1.x:**<br>\n",
    "The initial versions of TensorFlow, often referred to as TensorFlow 1.x, introduced the concept of data flow graphs for representing computations. While it gained popularity, there were challenges in terms of usability, especially for beginners. The API was sometimes complex, and there were inconsistencies between high-level and low-level APIs."
   ]
  },
  {
   "cell_type": "markdown",
   "id": "ba6d0e73-e95b-48b3-a87c-358df336a36d",
   "metadata": {},
   "source": [
    "**2. Eager Execution and TensorFlow 2.0:**<br>\n",
    "Tensorflow 2.0, released in 2019, marked a significant shift in the framework design philosophy. One of the most prominent changes was the introduction of eager execution as the default mode. Eager execution allows for immediate evaluation of operations, making it more intuitive and easier to work with, especially for prototyping and debugging."
   ]
  },
  {
   "cell_type": "markdown",
   "id": "3037402b-2920-4e4a-a9c7-639f151e24d8",
   "metadata": {},
   "source": [
    "**3. Simplified API and Keras Integration:**<br>\n",
    "Tensorflow 2.0 brought about a simplified API, making it more consistent and user-friendly. This version deprecated and removed some legacy and redundant features from TensorFlow 1.x, making it more focused and helped reduce confusion, and made the framework more accessible. Keras, a popular high-level neural networks API, became the official high-level API for TensorFlow. This integration improved the ease of use and provided a consistent interface for building and training models."
   ]
  },
  {
   "cell_type": "markdown",
   "id": "f1c0ca30-be38-44df-862d-373a6269152e",
   "metadata": {},
   "source": [
    "**4. Improved GPU Support**<br>\n",
    "Tensorflow 2.0 enhanced GPU support, making it more efficient in utilizing hardware acceleration for training deep learning models. This improvement contributed to better performance and faster training times."
   ]
  },
  {
   "cell_type": "markdown",
   "id": "1cb5fdea-f5eb-4570-ba3c-b896b0766a3c",
   "metadata": {},
   "source": [
    "**5. TensorFlow Extended (TFX) and TensorFlow Lite:**<br>\n",
    "Tensorflow 2.0 also brought improvements to deployment and serving with the introduction of TensorFlow Extended (TFX) for end-to-end ML pipelines. Additionally, TensorFlow Lite was introduced to enable the deployment of Machine Learning models on mobile and edge devices."
   ]
  },
  {
   "cell_type": "markdown",
   "id": "fbb8dddd-4ccd-43db-b757-159606c96cf2",
   "metadata": {},
   "source": [
    "Overall, Tensorflow 2.0 aims to provide a more user-friendly, flexible, and efficient platform for machine learning development."
   ]
  },
  {
   "cell_type": "markdown",
   "id": "6794b545-9fb2-4e10-a37f-5011567b1d3a",
   "metadata": {},
   "source": [
    "**<h3>Installation and Setup</h3>**"
   ]
  },
  {
   "cell_type": "markdown",
   "id": "4f74e7c4-5a9d-4072-a8ea-07af10968a5e",
   "metadata": {},
   "source": [
    "To install TensorFlow version 2, you can use Python's package manager called 'pip'. Follow these steps to install Tensorflow v2. Before starting this installation process, ensure you have installed Python on your system. When this notebook is built, TensorFlow works good with Python 3.8 and above. If you face any issues with version clash, upgrade pip. If it doesn't solve your issue, check out the official documentations.\n",
    "\n",
    "It's recommended to install Tensorflow library on a virtual environment. But it's purely optional."
   ]
  },
  {
   "cell_type": "code",
   "execution_count": null,
   "id": "1254fcf5-3e90-4b82-883c-709556b9a612",
   "metadata": {},
   "outputs": [],
   "source": [
    "# Upgrade pip\n",
    "!pip install --upgrade pip"
   ]
  },
  {
   "cell_type": "code",
   "execution_count": null,
   "id": "507caf37-a3bb-4bf6-b1e3-0d0c9c2a1ce2",
   "metadata": {},
   "outputs": [],
   "source": [
    "# Install the required packages\n",
    "!pip install tensorflow\n",
    "!pip install tensorflow-gpu         # GPU Support (as discussed)"
   ]
  },
  {
   "cell_type": "code",
   "execution_count": null,
   "id": "8adc4fc6-ba6e-4ef9-b65d-6280d19b6a5f",
   "metadata": {},
   "outputs": [],
   "source": [
    "# Let's import and check\n",
    "import tensorflow as tf\n",
    "print(\"TensorFlow version: \", tf.__version__) # This should print the version of Tensorflow."
   ]
  },
  {
   "cell_type": "markdown",
   "id": "983f8170-7fad-4869-9217-75a43bf31b06",
   "metadata": {},
   "source": [
    "This was about the overall introduction to TensorFlow 2.0 and it's installation. Let's continue the rest in the next notebook. "
   ]
  }
 ],
 "metadata": {
  "kernelspec": {
   "display_name": "Python 3 (ipykernel)",
   "language": "python",
   "name": "python3"
  },
  "language_info": {
   "codemirror_mode": {
    "name": "ipython",
    "version": 3
   },
   "file_extension": ".py",
   "mimetype": "text/x-python",
   "name": "python",
   "nbconvert_exporter": "python",
   "pygments_lexer": "ipython3",
   "version": "3.11.0"
  }
 },
 "nbformat": 4,
 "nbformat_minor": 5
}
