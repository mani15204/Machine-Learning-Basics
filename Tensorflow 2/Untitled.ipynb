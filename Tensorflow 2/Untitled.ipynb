{
 "cells": [
  {
   "cell_type": "code",
   "execution_count": 6,
   "id": "899ba38f-3cfb-4a6b-b147-01836bac3090",
   "metadata": {},
   "outputs": [
    {
     "ename": "TypeError",
     "evalue": "KaggleApi.authenticate() takes 1 positional argument but 2 were given",
     "output_type": "error",
     "traceback": [
      "\u001b[1;31m---------------------------------------------------------------------------\u001b[0m",
      "\u001b[1;31mTypeError\u001b[0m                                 Traceback (most recent call last)",
      "Cell \u001b[1;32mIn[6], line 7\u001b[0m\n\u001b[0;32m      5\u001b[0m api_key \u001b[38;5;241m=\u001b[39m \u001b[38;5;124m'\u001b[39m\u001b[38;5;124mcfdd389b029d1a4908be1832765c1a40\u001b[39m\u001b[38;5;124m'\u001b[39m\n\u001b[0;32m      6\u001b[0m api \u001b[38;5;241m=\u001b[39m KaggleApi()\n\u001b[1;32m----> 7\u001b[0m \u001b[43mapi\u001b[49m\u001b[38;5;241;43m.\u001b[39;49m\u001b[43mauthenticate\u001b[49m\u001b[43m(\u001b[49m\u001b[43mapi_key\u001b[49m\u001b[43m)\u001b[49m\n",
      "\u001b[1;31mTypeError\u001b[0m: KaggleApi.authenticate() takes 1 positional argument but 2 were given"
     ]
    }
   ],
   "source": [
    "from kaggle.api.kaggle_api_extended import KaggleApi\n",
    "import os\n",
    "\n",
    "# Set your Kaggle API key (you can obtain it from your Kaggle account)\n",
    "api_key = 'cfdd389b029d1a4908be1832765c1a40'\n",
    "api = KaggleApi()\n",
    "api.authenticate(api_key)\n"
   ]
  },
  {
   "cell_type": "code",
   "execution_count": null,
   "id": "e06d3de6-4b1e-43f8-9344-26fbd90466c8",
   "metadata": {},
   "outputs": [],
   "source": [
    "\n",
    "# Specify the dataset name\n",
    "dataset_name = '/kaggle/input/siim-isic-melanoma-classification'\n",
    "\n",
    "# Specify the subset of images you want to download (replace with your criteria)\n",
    "subset_images = ['image1.jpg', 'image2.jpg', 'image3.jpg']\n",
    "\n",
    "# Specify the path where you want to download the images\n",
    "download_path = '/path/to/download'\n",
    "\n",
    "# Create the download directory if it doesn't exist\n",
    "os.makedirs(download_path, exist_ok=True)\n",
    "\n",
    "# Download each image in the subset\n",
    "for image_name in subset_images:\n",
    "    file_path = f'{dataset_name}/{image_name}'\n",
    "    api.dataset_download_file(dataset_name, file_path, path=download_path, force=True)\n",
    "\n",
    "print('Subset of images downloaded successfully.')\n"
   ]
  }
 ],
 "metadata": {
  "kernelspec": {
   "display_name": "Python 3 (ipykernel)",
   "language": "python",
   "name": "python3"
  },
  "language_info": {
   "codemirror_mode": {
    "name": "ipython",
    "version": 3
   },
   "file_extension": ".py",
   "mimetype": "text/x-python",
   "name": "python",
   "nbconvert_exporter": "python",
   "pygments_lexer": "ipython3",
   "version": "3.11.0"
  }
 },
 "nbformat": 4,
 "nbformat_minor": 5
}
