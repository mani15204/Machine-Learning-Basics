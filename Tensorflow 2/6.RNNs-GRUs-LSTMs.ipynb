{
 "cells": [
  {
   "cell_type": "markdown",
   "id": "277e7014-5ee6-4caf-b350-48d8e5db65f0",
   "metadata": {},
   "source": [
    "# **RNNs, GRUs, LSTMs**"
   ]
  },
  {
   "cell_type": "markdown",
   "id": "e57b57c7-5d3e-4925-9817-4bb1e8c0c200",
   "metadata": {},
   "source": [
    "Each timestep - unroll one row of the image at a time"
   ]
  },
  {
   "cell_type": "code",
   "execution_count": 6,
   "id": "23119e83-fd0d-47c0-ab90-320800f0745f",
   "metadata": {},
   "outputs": [],
   "source": [
    "# Import modules\n",
    "import tensorflow as tf\n",
    "from tensorflow import keras\n",
    "from tensorflow.keras import layers\n",
    "from tensorflow.keras.datasets import mnist"
   ]
  },
  {
   "cell_type": "code",
   "execution_count": 7,
   "id": "75721a16-5180-4e9f-a65a-2f2f4037959f",
   "metadata": {},
   "outputs": [],
   "source": [
    "# Loading the data\n",
    "(X_train,  y_train), (X_test, y_test) = mnist.load_data()\n",
    "X_train = X_train.astype('float32') / 255.0\n",
    "X_test = X_test.astype('float32') / 255.0"
   ]
  },
  {
   "cell_type": "code",
   "execution_count": 8,
   "id": "1dd41342-8e37-4499-9ddd-87151a4c34be",
   "metadata": {},
   "outputs": [
    {
     "name": "stdout",
     "output_type": "stream",
     "text": [
      "Model: \"sequential_1\"\n",
      "_________________________________________________________________\n",
      " Layer (type)                Output Shape              Param #   \n",
      "=================================================================\n",
      " simple_rnn_2 (SimpleRNN)    (None, None, 512)         276992    \n",
      "                                                                 \n",
      " simple_rnn_3 (SimpleRNN)    (None, 512)               524800    \n",
      "                                                                 \n",
      " dense_1 (Dense)             (None, 10)                5130      \n",
      "                                                                 \n",
      "=================================================================\n",
      "Total params: 806922 (3.08 MB)\n",
      "Trainable params: 806922 (3.08 MB)\n",
      "Non-trainable params: 0 (0.00 Byte)\n",
      "_________________________________________________________________\n"
     ]
    }
   ],
   "source": [
    "model = keras.Sequential()\n",
    "model.add(keras.Input(shape=(None,28))) # 28 pixels in each timestep -> we mention no of timesteps as None (actually 28)\n",
    "model.add(layers.SimpleRNN(512, return_sequences=True, activation='relu')) # Returns 512 nodes - for each timesteps (28)\n",
    "model.add(layers.SimpleRNN(512, activation='relu'))\n",
    "model.add(layers.Dense(10))\n",
    "model.summary()"
   ]
  },
  {
   "cell_type": "code",
   "execution_count": 9,
   "id": "4d4be34c-1725-43ea-ab94-57d2ecc12765",
   "metadata": {},
   "outputs": [
    {
     "name": "stdout",
     "output_type": "stream",
     "text": [
      "Epoch 1/10\n",
      "938/938 [==============================] - 242s 242ms/step - loss: 0.3132 - accuracy: 0.9055\n",
      "Epoch 2/10\n",
      "938/938 [==============================] - 226s 240ms/step - loss: 0.1386 - accuracy: 0.9615\n",
      "Epoch 3/10\n",
      "938/938 [==============================] - 204s 218ms/step - loss: 0.1279 - accuracy: 0.9650\n",
      "Epoch 4/10\n",
      "938/938 [==============================] - 220s 234ms/step - loss: 0.1079 - accuracy: 0.9714\n",
      "Epoch 5/10\n",
      "938/938 [==============================] - 211s 225ms/step - loss: 0.1021 - accuracy: 0.9724\n",
      "Epoch 6/10\n",
      "938/938 [==============================] - 219s 233ms/step - loss: 0.0829 - accuracy: 0.9779\n",
      "Epoch 7/10\n",
      "938/938 [==============================] - 216s 230ms/step - loss: 0.0820 - accuracy: 0.9779\n",
      "Epoch 8/10\n",
      "938/938 [==============================] - 207s 221ms/step - loss: 0.0734 - accuracy: 0.9801\n",
      "Epoch 9/10\n",
      "938/938 [==============================] - 207s 220ms/step - loss: 0.0682 - accuracy: 0.9817\n",
      "Epoch 10/10\n",
      "938/938 [==============================] - 214s 229ms/step - loss: 0.0746 - accuracy: 0.9799\n",
      "157/157 [==============================] - 17s 89ms/step - loss: 0.0695 - accuracy: 0.9832\n"
     ]
    },
    {
     "data": {
      "text/plain": [
       "[0.06951870769262314, 0.9832000136375427]"
      ]
     },
     "execution_count": 9,
     "metadata": {},
     "output_type": "execute_result"
    }
   ],
   "source": [
    "model.compile(\n",
    "    loss = keras.losses.SparseCategoricalCrossentropy(from_logits=True),\n",
    "    optimizer = keras.optimizers.Adam(0.001),\n",
    "    metrics = ['accuracy']\n",
    ")\n",
    "\n",
    "model.fit(X_train, y_train, batch_size=64, epochs=10)\n",
    "model.evaluate(X_test, y_test, batch_size=64)"
   ]
  },
  {
   "cell_type": "markdown",
   "id": "daf1982a-7322-4b04-8f99-0f72178ac710",
   "metadata": {},
   "source": [
    "We use activation='tanh' by default for RNNs. Also, the training time is more for 512 -> use 256"
   ]
  },
  {
   "cell_type": "code",
   "execution_count": 12,
   "id": "18ac5ade-26bd-4a44-884a-9453eb0e0e1f",
   "metadata": {},
   "outputs": [],
   "source": [
    "# Replace SimpleRNN with  -> GRU, LSTM\n",
    "\n",
    "# Also try this\n",
    "'''\n",
    "layers.Bidirectional(\n",
    "    layers.LSTM(256, activation='tanh')\n",
    ")\n",
    "'''\n",
    "pass"
   ]
  },
  {
   "cell_type": "code",
   "execution_count": null,
   "id": "ac7fd11f-b4c5-49d2-b3bc-5e218dfcdd0b",
   "metadata": {},
   "outputs": [],
   "source": []
  }
 ],
 "metadata": {
  "kernelspec": {
   "display_name": "Python 3 (ipykernel)",
   "language": "python",
   "name": "python3"
  },
  "language_info": {
   "codemirror_mode": {
    "name": "ipython",
    "version": 3
   },
   "file_extension": ".py",
   "mimetype": "text/x-python",
   "name": "python",
   "nbconvert_exporter": "python",
   "pygments_lexer": "ipython3",
   "version": "3.11.0"
  }
 },
 "nbformat": 4,
 "nbformat_minor": 5
}
